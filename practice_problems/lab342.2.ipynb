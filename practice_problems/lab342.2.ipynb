{
 "cells": [
  {
   "cell_type": "code",
   "execution_count": null,
   "metadata": {},
   "outputs": [],
   "source": [
    "\"\"\"Accessing a Paginated API Endpoint to Explore Data- Part 2\n",
    "In this lab we will combine concepts that we have learned throughout the class so far. Some of those concepts are:\n",
    "\n",
    "Importing Libraries\n",
    "Looping through nested lists and Dictionaries\n",
    "Make a request to an API Endpoint\n",
    "Define functions based on a given set of conditions\n",
    "Accessing and utilizing JSON data\n",
    "Handling Exception Errors\n",
    "Writing Pseudo-Code\n",
    "\n",
    "To complete this lab we will be using data from a Star Wars API. The full documentation can be found here: https://swapi.dev/documentation#intro\n",
    "\n",
    "We will be focusing on the \"Starship Resource\" in this lab.\n",
    "\n",
    "If you have not completed Cumulative Lab 1, please go back and complete this lab. This lab is similair, but with less informative instruction to help build your logic skills.\"\"\""
   ]
  },
  {
   "cell_type": "code",
   "execution_count": null,
   "metadata": {},
   "outputs": [],
   "source": [
    "\"\"\"Import all of the required packages to complete this assignment. Include a package to print json in a tabular format.\"\"\""
   ]
  },
  {
   "cell_type": "code",
   "execution_count": null,
   "metadata": {},
   "outputs": [],
   "source": [
    "\"\"\"Make your request to the API Endpoint and use a WHILE if neccessary to access multiple pages.\n",
    "\n",
    "Save all of the responses in one Python Object. If you would like, save only the neccessary keys into a new Python Object.\"\"\""
   ]
  },
  {
   "cell_type": "code",
   "execution_count": null,
   "metadata": {},
   "outputs": [],
   "source": [
    "\"\"\"Define and call a function that returns all of the models of starships.\"\"\""
   ]
  },
  {
   "cell_type": "code",
   "execution_count": null,
   "metadata": {},
   "outputs": [],
   "source": [
    "\"\"\"Define and call a function that finds the ship that can carry the most cargo.\"\"\""
   ]
  },
  {
   "cell_type": "code",
   "execution_count": null,
   "metadata": {},
   "outputs": [],
   "source": [
    "\"\"\"Define a function that returns the number of crew and passengers of a given Starship.\n",
    "\n",
    "Make at least two seperate function calls to test the functionality and any edge cases you can think of.\"\"\""
   ]
  },
  {
   "cell_type": "code",
   "execution_count": null,
   "metadata": {},
   "outputs": [],
   "source": [
    "\"\"\"Define and call a function that finds the most expensive starship.\n",
    "\n",
    "[ ]\n",
    "\"\"\""
   ]
  },
  {
   "cell_type": "code",
   "execution_count": null,
   "metadata": {},
   "outputs": [],
   "source": [
    "\"\"\"Define a function that returns all the starships that are less than a given price.\n",
    "\n",
    "Make at least two seperate function calls to test the functionality and any edge cases you can think of.\"\"\""
   ]
  },
  {
   "cell_type": "code",
   "execution_count": null,
   "metadata": {},
   "outputs": [],
   "source": [
    "\"\"\"Define and a function to find the starships that have appeared in a given number of films.\n",
    "\n",
    "Make at least two seperate function calls to test the functionality and any edge cases you can think of.\n",
    "\n",
    "[ ]\"\"\"\n"
   ]
  },
  {
   "cell_type": "code",
   "execution_count": null,
   "metadata": {},
   "outputs": [],
   "source": [
    "\"\"\"Define a function that finds the shortest and longest ship. Return should be the names of the ship in addition to the numeric values. Convert values into feet.\n",
    "\n",
    "Make at least two seperate function calls to test the functionality and any edge cases you can think of.\"\"\""
   ]
  },
  {
   "cell_type": "code",
   "execution_count": null,
   "metadata": {},
   "outputs": [],
   "source": [
    "\"\"\"Define and call a function that returns the Starship Class(es) that do not carry any passengers.\"\"\""
   ]
  },
  {
   "cell_type": "code",
   "execution_count": null,
   "metadata": {},
   "outputs": [],
   "source": []
  }
 ],
 "metadata": {
  "language_info": {
   "name": "python"
  },
  "orig_nbformat": 4
 },
 "nbformat": 4,
 "nbformat_minor": 2
}
