{
 "cells": [
  {
   "cell_type": "code",
   "execution_count": 28,
   "metadata": {},
   "outputs": [],
   "source": [
    "import numpy as np\n",
    "import pandas as pd"
   ]
  },
  {
   "cell_type": "code",
   "execution_count": 29,
   "metadata": {},
   "outputs": [],
   "source": [
    "#syntex\n",
    "#newSeries = pd.Series(data,index)\n",
    "\n"
   ]
  },
  {
   "cell_type": "code",
   "execution_count": 30,
   "metadata": {},
   "outputs": [
    {
     "name": "stdout",
     "output_type": "stream",
     "text": [
      "a    0.421085\n",
      "b    0.284214\n",
      "c    0.335924\n",
      "d    0.216481\n",
      "e    0.660229\n",
      "dtype: float64\n"
     ]
    }
   ],
   "source": [
    "ser = pd.Series(np.random.random(5),index = ['a','b','c','d','e'])\n",
    "print(ser)"
   ]
  },
  {
   "cell_type": "code",
   "execution_count": 31,
   "metadata": {},
   "outputs": [
    {
     "data": {
      "text/plain": [
       "car     5\n",
       "toys    9\n",
       "game    9\n",
       "dtype: int64"
      ]
     },
     "execution_count": 31,
     "metadata": {},
     "output_type": "execute_result"
    }
   ],
   "source": [
    "d = {'car':5,'toys':9,'game':9}\n",
    "pd.Series(d)\n"
   ]
  },
  {
   "cell_type": "code",
   "execution_count": 50,
   "metadata": {},
   "outputs": [
    {
     "data": {
      "text/plain": [
       "0        a\n",
       "1        g\n",
       "2        w\n",
       "3        e\n",
       "4        s\n",
       "5    drtnf\n",
       "dtype: object"
      ]
     },
     "execution_count": 50,
     "metadata": {},
     "output_type": "execute_result"
    }
   ],
   "source": [
    "mylist = ['a','g','w','e','s','drtnf']\n",
    "myarray = np.arange(10)\n",
    "mydict = dict(zip(mylist,myarray))\n",
    "ser = pd.Series(mylist)\n",
    "ser.head(8)\n",
    "\n",
    "#ser2= pd.Series(myarray)\n",
    "#print(ser2)\n",
    "#ser3 = pd.Series(mydict)\n",
    "#print(ser3)"
   ]
  }
 ],
 "metadata": {
  "kernelspec": {
   "display_name": "Python 3",
   "language": "python",
   "name": "python3"
  },
  "language_info": {
   "codemirror_mode": {
    "name": "ipython",
    "version": 3
   },
   "file_extension": ".py",
   "mimetype": "text/x-python",
   "name": "python",
   "nbconvert_exporter": "python",
   "pygments_lexer": "ipython3",
   "version": "3.10.10"
  },
  "orig_nbformat": 4
 },
 "nbformat": 4,
 "nbformat_minor": 2
}
