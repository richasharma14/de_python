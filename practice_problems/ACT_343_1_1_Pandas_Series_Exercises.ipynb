{
  "cells": [
    {
      "cell_type": "markdown",
      "id": "-b0uAd4l815N",
      "metadata": {
        "id": "-b0uAd4l815N"
      },
      "source": [
        "# **Pandas Series Practice Excercises**\n",
        "\n",
        "\n",
        "A pandas Series is a one-dimensional array. It holds any data type supported in Python and uses labels to locate each data value for retrieval. These labels form the index, and they can be strings or integers. A Series is the main data structure in the pandas framework for storing one-dimensional data."
      ]
    },
    {
      "cell_type": "markdown",
      "id": "pysSxlLx8bU5",
      "metadata": {
        "id": "pysSxlLx8bU5"
      },
      "source": [
        "**Common methods used with Pandas Series**\n",
        "\n",
        "\n",
        "*.head(), .name(), .to_frame(), .reset_index(), isin(), .valuecounts(), .index(), .qcut(), .reshape(), .take(), .append(), .tolist(), .get_loc(), .map(), .diff()*\n",
        "\n",
        "\n",
        "---\n",
        "\n",
        "\n",
        "Please refer to the [Pandas Series Documentation](https://pandas.pydata.org/docs/reference/api/pandas.Series.html) for a full list of methods and how to implement them. "
      ]
    },
    {
      "cell_type": "markdown",
      "id": "fc4bd4f0",
      "metadata": {
        "id": "fc4bd4f0"
      },
      "source": [
        "To complete the problems below we first need to import the Pandas and Numpy libraries. If you haven't already installed them, use pip or conda to install them globally or in your virtual environment.\n",
        "\n",
        "\n",
        "* The common alias for pandas is pd.  \n",
        "* The common alias for numpy is np.\n",
        "\n",
        "\n"
      ]
    },
    {
      "cell_type": "code",
      "execution_count": 32,
      "id": "3a3bc97b",
      "metadata": {
        "id": "3a3bc97b"
      },
      "outputs": [],
      "source": [
        "#pip install pandas\n",
        "#pip install numpy \n",
        "\n",
        "import pandas as pd\n",
        "import numpy as np"
      ]
    },
    {
      "cell_type": "markdown",
      "id": "b8fc4f4a",
      "metadata": {
        "id": "b8fc4f4a"
      },
      "source": [
        "**Problem 1**\n",
        "\n",
        "We can easily convert lists, tuples, dictionaries and numpy arrays into a Pandas Series by directly passing the python object as an arguement to the Series() constructor. We have used the alias pd in the cell above, so we will use pd.Series() to construct our Series object. \n",
        "\n",
        "\n",
        "\n",
        "*  Convert the 3 objects below into 3 seperate Pandas Series objects.\n",
        "*  Use the .head() method to see the first 5 items in each Series\n",
        "\n",
        "\n",
        "\n"
      ]
    },
    {
      "cell_type": "code",
      "execution_count": 33,
      "id": "21b30b4e",
      "metadata": {
        "id": "21b30b4e"
      },
      "outputs": [
        {
          "name": "stdout",
          "output_type": "stream",
          "text": [
            "a     0\n",
            "b     1\n",
            "c     2\n",
            "e     3\n",
            "d     4\n",
            "f     5\n",
            "g     6\n",
            "h     7\n",
            "i     8\n",
            "j     9\n",
            "k    10\n",
            "l    11\n",
            "m    12\n",
            "n    13\n",
            "o    14\n",
            "p    15\n",
            "q    16\n",
            "r    17\n",
            "s    18\n",
            "t    19\n",
            "u    20\n",
            "v    21\n",
            "w    22\n",
            "x    23\n",
            "y    24\n",
            "z    25\n",
            "dtype: int32\n"
          ]
        },
        {
          "data": {
            "text/plain": [
              "0    hellosam\n",
              "1      rockey\n",
              "2        john\n",
              "dtype: object"
            ]
          },
          "execution_count": 33,
          "metadata": {},
          "output_type": "execute_result"
        }
      ],
      "source": [
        "mylist = list('abcedfghijklmnopqrstuvwxyz')\n",
        "myarr = np.arange(26)\n",
        "mydict = dict(zip(mylist, myarr))\n",
        "\n",
        "ser1= pd.Series(mylist)\n",
        "#ser1.head(20)\n",
        "\n",
        "ser2= pd.Series(myarr)\n",
        "#ser2.head()\n",
        "\n",
        "ser3= pd.Series(mydict)\n",
        "ser3.head(27)\n",
        "print(ser3)\n",
        "\n",
        "my_name= ('hellosam','rockey','john')\n",
        "sern= pd.Series(my_name)\n",
        "sern"
      ]
    },
    {
      "cell_type": "markdown",
      "id": "4bdd8618",
      "metadata": {
        "id": "4bdd8618"
      },
      "source": [
        "**Problem 2**\n",
        "\n",
        "We can give a name to our Pandas series as a parameter of our Constructor method. \n",
        "\n",
        "*   Use the name parameter to add 'alphabet' as the name of our series.\n",
        "*   Use the .head() method to see the name of our Series displayed\n",
        "\n"
      ]
    },
    {
      "cell_type": "code",
      "execution_count": 34,
      "id": "b18f9c01",
      "metadata": {
        "id": "b18f9c01"
      },
      "outputs": [
        {
          "name": "stdout",
          "output_type": "stream",
          "text": [
            "0     a\n",
            "1     b\n",
            "2     c\n",
            "3     e\n",
            "4     d\n",
            "5     f\n",
            "6     g\n",
            "7     h\n",
            "8     i\n",
            "9     j\n",
            "10    k\n",
            "11    l\n",
            "12    m\n",
            "13    n\n",
            "14    o\n",
            "15    p\n",
            "16    q\n",
            "17    r\n",
            "18    s\n",
            "19    t\n",
            "20    u\n",
            "21    v\n",
            "22    w\n",
            "23    x\n",
            "24    y\n",
            "25    z\n",
            "Name: alphabet, dtype: object\n"
          ]
        },
        {
          "data": {
            "text/plain": [
              "0    hellosam\n",
              "1      rockey\n",
              "2        john\n",
              "Name: persons, dtype: object"
            ]
          },
          "execution_count": 34,
          "metadata": {},
          "output_type": "execute_result"
        }
      ],
      "source": [
        "ser = pd.Series(list('abcedfghijklmnopqrstuvwxyz'), name= 'alphabet')\n",
        "print(ser)\n",
        "ser.head()\n",
        "sern= pd.Series(my_name,name='persons')\n",
        "sern"
      ]
    },
    {
      "attachments": {},
      "cell_type": "markdown",
      "id": "9CnM9Q1aGeSh",
      "metadata": {
        "id": "9CnM9Q1aGeSh"
      },
      "source": [
        "**Problem 3**\n",
        "\n",
        "We can also add a name to the series after it is created using the .name() method on our Series object.\n",
        "\n",
        "\n",
        "\n",
        "*   Use the .name attribute to add the name 'alphabet1' to the Series object after it has been created.\n",
        "*   Use the .head() method to verify\n",
        "\n",
        "\n",
        "\n"
      ]
    },
    {
      "cell_type": "code",
      "execution_count": 35,
      "id": "LNTgSTULGmki",
      "metadata": {
        "id": "LNTgSTULGmki"
      },
      "outputs": [
        {
          "data": {
            "text/plain": [
              "0    hellosam\n",
              "1      rockey\n",
              "2        john\n",
              "Name: persons, dtype: object"
            ]
          },
          "execution_count": 35,
          "metadata": {},
          "output_type": "execute_result"
        }
      ],
      "source": [
        "ser = pd.Series(list('abcedfghijklmnopqrstuvwxyz'))\n",
        "ser.name= 'alphabet1'\n",
        "ser.head()\n",
        "\n",
        "sern.name='persons'\n",
        "sern.head()"
      ]
    },
    {
      "cell_type": "markdown",
      "id": "s37iP5fcQ9Nu",
      "metadata": {
        "id": "s37iP5fcQ9Nu"
      },
      "source": [
        "**Problem 4**\n",
        "\n",
        "We can use mathematic operators to perform calculations on two or more series.\n",
        "\n",
        "*   Create a new object that adds the two series below\n",
        "*   Create a new object that subtracts the two series below\n",
        "*   Create a new object that multiplies the two series below\n",
        "*   Create a new object that divides the two series below\n",
        "\n",
        "Make sure you display your outputs.\n",
        "\n",
        "\n",
        "\n"
      ]
    },
    {
      "cell_type": "code",
      "execution_count": 36,
      "id": "8f9oxMC2Rsf2",
      "metadata": {
        "id": "8f9oxMC2Rsf2"
      },
      "outputs": [
        {
          "data": {
            "text/plain": [
              "0    1\n",
              "1    1\n",
              "2    1\n",
              "3    1\n",
              "4    1\n",
              "dtype: int64"
            ]
          },
          "execution_count": 36,
          "metadata": {},
          "output_type": "execute_result"
        }
      ],
      "source": [
        "# ser1= pd.Series([2, 4, 6, 8, 10])\n",
        "# ser2= pd.Series([1, 3, 5, 7, 9])\n",
        "# ser3 = ser1.add(ser2)\n",
        "# ser4 = ser1.subtract(ser2)\n",
        "# ser5 = ser1.multiply(ser2)\n",
        "# ser6 = ser1.divide(ser2)\n",
        "# print(ser3)\n",
        "# print(ser4)\n",
        "# print(ser5)\n",
        "# print(ser6)\n",
        "\n",
        "a1= pd.Series([3,5,7,9,11])\n",
        "b1= pd.Series([2,4,6,8,10])\n",
        "c1= a1.add(b1)\n",
        "c1\n",
        "d1= a1.subtract(b1)\n",
        "d1"
      ]
    },
    {
      "cell_type": "markdown",
      "id": "FFFpCBO9SPio",
      "metadata": {
        "id": "FFFpCBO9SPio"
      },
      "source": [
        "**Problem 5**\n",
        "\n",
        "We can use comparison operators to compare elements of two Series.\n",
        "\n",
        "Use the series below to perform the following:\n",
        "\n",
        "\n",
        "*   Check if the elements in ser1 are equal to the elements in ser2\n",
        "*   Check if the elements in ser1 are greater than the elements in ser2\n",
        "*   Check if the elements in ser1 are less than the elements in ser2\n",
        "\n",
        "\n",
        "\n"
      ]
    },
    {
      "cell_type": "code",
      "execution_count": 37,
      "id": "dDqg0fMyTKBl",
      "metadata": {
        "id": "dDqg0fMyTKBl"
      },
      "outputs": [
        {
          "name": "stdout",
          "output_type": "stream",
          "text": [
            "0    False\n",
            "1    False\n",
            "2     True\n",
            "3    False\n",
            "4     True\n",
            "dtype: bool\n",
            "0     True\n",
            "1     True\n",
            "2    False\n",
            "3     True\n",
            "4    False\n",
            "dtype: bool\n",
            "0    False\n",
            "1    False\n",
            "2    False\n",
            "3    False\n",
            "4    False\n",
            "dtype: bool\n"
          ]
        }
      ],
      "source": [
        "ser1= pd.Series([2, 4, 5, 8, 10])\n",
        "ser2= pd.Series([1, 3, 5, 7, 10])\n",
        "print(ser1==ser2)\n",
        "print(ser1>ser2)\n",
        "print(ser1<ser2)"
      ]
    },
    {
      "cell_type": "markdown",
      "id": "WNACP_hzVEGO",
      "metadata": {
        "id": "WNACP_hzVEGO"
      },
      "source": [
        "**Problem 6**\n",
        "\n",
        "We can add additional elements to our Pandas Series. Use the Series below to peform the following:\n",
        "\n",
        "\n",
        "*   Create a new Series by using the .append() method to add 'penguin' and 'lion' to the Series object\n",
        "*   Use the .reset_index() method to reset the index values. \n",
        "\n",
        "(Both steps can be done in one line)\n",
        "\n"
      ]
    },
    {
      "cell_type": "code",
      "execution_count": 38,
      "id": "U88-04bTV0Pv",
      "metadata": {
        "id": "U88-04bTV0Pv"
      },
      "outputs": [
        {
          "name": "stdout",
          "output_type": "stream",
          "text": [
            "0         cat\n",
            "1         dog\n",
            "2    elephant\n",
            "3        frog\n",
            "0        lion\n",
            "1     penguin\n",
            "dtype: object\n"
          ]
        }
      ],
      "source": [
        "ser= pd.Series(['cat', 'dog', 'elephant', 'frog'])\n",
        "ser1 = pd.Series(['lion','penguin'])\n",
        "ser2 =ser._append(ser1)\n",
        "print(ser2)"
      ]
    },
    {
      "cell_type": "markdown",
      "id": "J-d-RjpoWv2r",
      "metadata": {
        "id": "J-d-RjpoWv2r"
      },
      "source": [
        "**Problem 7**\n",
        "\n",
        "We can customize the index of our Series by using the 'index' paramater in our Series constructor. Use the Series below to peform the following:\n",
        "\n",
        "\n",
        "*   Set the index to ['A', 'B', 'C', 'D']\n",
        "*   Use the .reindex() method after the Series object is created to change the order of the index to ['B', 'A', 'D', 'C']\n",
        "\n"
      ]
    },
    {
      "cell_type": "code",
      "execution_count": 39,
      "id": "oUhUE4TGXbwA",
      "metadata": {
        "id": "oUhUE4TGXbwA"
      },
      "outputs": [
        {
          "name": "stdout",
          "output_type": "stream",
          "text": [
            "B         dog\n",
            "A         cat\n",
            "D        frog\n",
            "C    elephant\n",
            "dtype: object\n"
          ]
        }
      ],
      "source": [
        "ser= pd.Series(['cat', 'dog', 'elephant', 'frog'], index=['A','B','C','D']).reindex(index=['B','A','D','C'])\n",
        "print(ser)"
      ]
    },
    {
      "cell_type": "markdown",
      "id": "cdc8d244",
      "metadata": {
        "id": "cdc8d244"
      },
      "source": [
        "**Problem 8**\n",
        "\n",
        "Find the elements in the first series (ser1) not in the second series (ser2).\n",
        "\n",
        "\n",
        "*   Use the single square bracket notation and the .isin() method with ser1 to remove the items present in ser2. This will leave us with only the itmes not present in ser2.\n",
        "\n"
      ]
    },
    {
      "cell_type": "code",
      "execution_count": 40,
      "id": "f1276978",
      "metadata": {
        "id": "f1276978"
      },
      "outputs": [
        {
          "name": "stdout",
          "output_type": "stream",
          "text": [
            "0    1\n",
            "1    2\n",
            "2    3\n",
            "dtype: int64\n"
          ]
        }
      ],
      "source": [
        "ser1 = pd.Series([1, 2, 3, 4, 5])\n",
        "ser2 = pd.Series([4, 5, 6, 7, 8])\n",
        "ser=ser1[~ser1.isin(ser2)]\n",
        "print(ser)"
      ]
    },
    {
      "cell_type": "markdown",
      "id": "DmNC5CliY7I5",
      "metadata": {
        "id": "DmNC5CliY7I5"
      },
      "source": [
        "**Problem 9**\n",
        "\n",
        "Use the Series below to peform the following:\n",
        "*   Use a built-in Pandas method to find the mean of the Series\n",
        "*   Use a built-in Pandas method to find the standard deviation of the Series\n",
        "\n"
      ]
    },
    {
      "cell_type": "code",
      "execution_count": 41,
      "id": "lR7z4OOjZcdm",
      "metadata": {
        "id": "lR7z4OOjZcdm"
      },
      "outputs": [
        {
          "name": "stdout",
          "output_type": "stream",
          "text": [
            "4.818181818181818\n",
            "2.522624895547565\n"
          ]
        }
      ],
      "source": [
        "ser= pd.Series(data = [1,2,3,4,5,6,7,8,9,5,3])\n",
        "print(ser.mean())\n",
        "print(ser.std())"
      ]
    },
    {
      "cell_type": "markdown",
      "id": "d336f7dd",
      "metadata": {
        "id": "d336f7dd"
      },
      "source": [
        "**Problem 10**\n",
        "\n",
        "Find the elements in both series that are not in common (remove them if they exist in both).\n",
        "\n",
        "*   Create a new Series using np.union1d()\n",
        "*   Create a new Series using np. intersect1d()\n",
        "*   Use single square bracket notation and the .isin() method to find the final result\n",
        "\n",
        "\n",
        "\n"
      ]
    },
    {
      "cell_type": "code",
      "execution_count": 42,
      "id": "28768232",
      "metadata": {
        "id": "28768232"
      },
      "outputs": [
        {
          "name": "stdout",
          "output_type": "stream",
          "text": [
            "0    1\n",
            "1    2\n",
            "2    3\n",
            "3    4\n",
            "4    5\n",
            "5    6\n",
            "6    7\n",
            "7    8\n",
            "dtype: int64\n",
            "0    4\n",
            "1    5\n",
            "dtype: int64\n",
            "0    1\n",
            "1    2\n",
            "2    3\n",
            "5    6\n",
            "6    7\n",
            "7    8\n",
            "dtype: int64\n"
          ]
        }
      ],
      "source": [
        "ser1 = pd.Series([1, 2, 3, 4, 5])\n",
        "ser2 = pd.Series([4, 5, 6, 7, 8])\n",
        "ser3 = pd.Series(np.union1d(ser1,ser2))\n",
        "print(ser3)\n",
        "ser4 = pd.Series(np.intersect1d(ser1,ser2))\n",
        "print(ser4)\n",
        "ser5 = ser3[~ser3.isin(ser4)]\n",
        "print(ser5)"
      ]
    },
    {
      "cell_type": "markdown",
      "id": "5d7188b5",
      "metadata": {
        "id": "5d7188b5"
      },
      "source": [
        "**Problem 11**\n",
        "\n",
        "Find the minimum, max, 25th percentile, and 75th percentile in the series.\n",
        "\n",
        "*   Use np.percentile to find the percentiles above\n",
        "\n",
        "\n",
        "\n"
      ]
    },
    {
      "cell_type": "code",
      "execution_count": 43,
      "id": "5a1a3ce7",
      "metadata": {
        "id": "5a1a3ce7"
      },
      "outputs": [
        {
          "data": {
            "text/plain": [
              "array([ 6.33429932, 14.54729566])"
            ]
          },
          "execution_count": 43,
          "metadata": {},
          "output_type": "execute_result"
        }
      ],
      "source": [
        "ser = pd.Series(np.random.normal(10, 5, 25))\n",
        "ser.min()\n",
        "ser.max()\n",
        "np.percentile(ser,25)\n",
        "np.percentile(ser,75)\n",
        "np.percentile(ser,q =[25,75])"
      ]
    },
    {
      "cell_type": "markdown",
      "id": "2e3c1803",
      "metadata": {
        "id": "2e3c1803"
      },
      "source": [
        "**Problem 12**\n",
        "\n",
        "Obtain the count of each unique item in the series.\n",
        "\n",
        "\n",
        "*   Use the .value_counts() method to find the frequency count of each unique item\n",
        "\n",
        "\n"
      ]
    },
    {
      "cell_type": "code",
      "execution_count": 44,
      "id": "16a2880a",
      "metadata": {
        "id": "16a2880a"
      },
      "outputs": [
        {
          "data": {
            "text/plain": [
              "f    7\n",
              "e    6\n",
              "c    5\n",
              "b    5\n",
              "h    3\n",
              "a    2\n",
              "d    1\n",
              "g    1\n",
              "Name: count, dtype: int64"
            ]
          },
          "execution_count": 44,
          "metadata": {},
          "output_type": "execute_result"
        }
      ],
      "source": [
        "ser = pd.Series(np.take(list('abcdefgh'), np.random.randint(8, size=30)))\n",
        "ser.value_counts()"
      ]
    },
    {
      "cell_type": "markdown",
      "id": "449036ea",
      "metadata": {
        "id": "449036ea"
      },
      "source": [
        "**Problem 13**\n",
        "\n",
        "Keep the two most frequent items in the series and change all items that are not those two into \"Other\".\n",
        "\n",
        "\n",
        "\n",
        "*   Use .isin(), .valuecounts(), and .index() to complete the task above\n",
        "\n"
      ]
    },
    {
      "cell_type": "code",
      "execution_count": 45,
      "id": "e86f2a9e",
      "metadata": {
        "id": "e86f2a9e"
      },
      "outputs": [
        {
          "name": "stdout",
          "output_type": "stream",
          "text": [
            "0     3\n",
            "1     2\n",
            "2     2\n",
            "3     4\n",
            "4     4\n",
            "5     2\n",
            "6     4\n",
            "7     4\n",
            "8     3\n",
            "9     4\n",
            "10    3\n",
            "11    4\n",
            "dtype: int32\n"
          ]
        },
        {
          "ename": "TypeError",
          "evalue": "'Index' object is not callable",
          "output_type": "error",
          "traceback": [
            "\u001b[1;31m---------------------------------------------------------------------------\u001b[0m",
            "\u001b[1;31mTypeError\u001b[0m                                 Traceback (most recent call last)",
            "Cell \u001b[1;32mIn[45], line 4\u001b[0m\n\u001b[0;32m      2\u001b[0m ser \u001b[39m=\u001b[39m pd\u001b[39m.\u001b[39mSeries(np\u001b[39m.\u001b[39mrandom\u001b[39m.\u001b[39mrandint(\u001b[39m1\u001b[39m, \u001b[39m5\u001b[39m, [\u001b[39m12\u001b[39m]))\n\u001b[0;32m      3\u001b[0m \u001b[39mprint\u001b[39m(ser)\n\u001b[1;32m----> 4\u001b[0m ser\u001b[39m.\u001b[39;49mvalue_counts()\u001b[39m.\u001b[39;49mindex()\n",
            "\u001b[1;31mTypeError\u001b[0m: 'Index' object is not callable"
          ]
        }
      ],
      "source": [
        "np.random.RandomState(100)\n",
        "ser = pd.Series(np.random.randint(1, 5, [12]))\n",
        "print(ser)\n",
        "ser.value_counts().index()"
      ]
    },
    {
      "cell_type": "markdown",
      "id": "b5928875",
      "metadata": {
        "id": "b5928875"
      },
      "source": [
        "**Problem 14**\n",
        "\n",
        "Bin the series below into 10 equal deciles and replace the values with the bin name.\n",
        "\n",
        "*   Use the .qcut() method to complete the task \n",
        "\n",
        "\n"
      ]
    },
    {
      "cell_type": "code",
      "execution_count": null,
      "id": "979b3d36",
      "metadata": {
        "id": "979b3d36"
      },
      "outputs": [
        {
          "data": {
            "text/plain": [
              "0      (0.837, 0.942]\n",
              "1       (0.61, 0.657]\n",
              "2      (0.339, 0.462]\n",
              "3      (0.942, 0.971]\n",
              "4     (0.0299, 0.169]\n",
              "5      (0.657, 0.837]\n",
              "6      (0.273, 0.339]\n",
              "7      (0.273, 0.339]\n",
              "8      (0.339, 0.462]\n",
              "9      (0.971, 0.997]\n",
              "10    (0.0299, 0.169]\n",
              "11     (0.657, 0.837]\n",
              "12     (0.942, 0.971]\n",
              "13     (0.837, 0.942]\n",
              "14      (0.61, 0.657]\n",
              "15     (0.971, 0.997]\n",
              "16      (0.462, 0.61]\n",
              "17      (0.462, 0.61]\n",
              "18     (0.169, 0.273]\n",
              "19     (0.169, 0.273]\n",
              "dtype: category\n",
              "Categories (10, interval[float64, right]): [(0.0299, 0.169] < (0.169, 0.273] < (0.273, 0.339] < (0.339, 0.462] ... (0.657, 0.837] < (0.837, 0.942] < (0.942, 0.971] < (0.971, 0.997]]"
            ]
          },
          "execution_count": 74,
          "metadata": {},
          "output_type": "execute_result"
        }
      ],
      "source": [
        "ser = pd.Series(np.random.random(20))\n",
        "pd.qcut(ser,10,)\n"
      ]
    },
    {
      "cell_type": "markdown",
      "id": "28c62e92",
      "metadata": {
        "id": "28c62e92"
      },
      "source": [
        "**Problem 15**\n",
        "\n",
        "Find the positions of numbers that are multiples of 3 from Seriees below.\n",
        "\n",
        "*  Use np.argwhere() to complete the task \n",
        "\n",
        "\n"
      ]
    },
    {
      "cell_type": "code",
      "execution_count": null,
      "id": "7ae884a9",
      "metadata": {
        "id": "7ae884a9"
      },
      "outputs": [
        {
          "name": "stdout",
          "output_type": "stream",
          "text": [
            "0    2\n",
            "1    9\n",
            "2    5\n",
            "3    1\n",
            "4    6\n",
            "5    9\n",
            "6    1\n",
            "dtype: int32\n"
          ]
        },
        {
          "data": {
            "text/plain": [
              "array([[1],\n",
              "       [4],\n",
              "       [5]], dtype=int64)"
            ]
          },
          "execution_count": 80,
          "metadata": {},
          "output_type": "execute_result"
        }
      ],
      "source": [
        "ser = pd.Series(np.random.randint(1, 10, 7))\n",
        "print(ser)\n",
        "np.argwhere(ser %3==0)"
      ]
    },
    {
      "cell_type": "markdown",
      "id": "7a60f247",
      "metadata": {
        "id": "7a60f247"
      },
      "source": [
        "**Problem 16**\n",
        "\n",
        "From ser, extract the items at positions in list pos.\n",
        "\n",
        "*   Use the .take() method to complete the task\n",
        "\n"
      ]
    },
    {
      "cell_type": "code",
      "execution_count": null,
      "id": "42338aff",
      "metadata": {
        "id": "42338aff"
      },
      "outputs": [
        {
          "data": {
            "text/plain": [
              "0     a\n",
              "4     e\n",
              "8     i\n",
              "14    o\n",
              "20    u\n",
              "dtype: object"
            ]
          },
          "execution_count": 81,
          "metadata": {},
          "output_type": "execute_result"
        }
      ],
      "source": [
        "ser = pd.Series(list('abcdefghijklmnopqrstuvwxyz'))\n",
        "pos = [0, 4, 8, 14, 20]\n",
        "ser.take(pos)"
      ]
    },
    {
      "cell_type": "markdown",
      "id": "5da1836c",
      "metadata": {
        "id": "5da1836c"
      },
      "source": [
        "**Problem 17**\n",
        "\n",
        "Stack ser1 and ser2 vertically.\n",
        "\n",
        "*   Use the .append() method to complete the task\n",
        "\n"
      ]
    },
    {
      "cell_type": "code",
      "execution_count": null,
      "id": "5dfea534",
      "metadata": {
        "id": "5dfea534"
      },
      "outputs": [
        {
          "data": {
            "text/plain": [
              "0    0\n",
              "1    1\n",
              "2    2\n",
              "3    3\n",
              "4    4\n",
              "0    a\n",
              "1    b\n",
              "2    c\n",
              "3    d\n",
              "4    e\n",
              "dtype: object"
            ]
          },
          "execution_count": 82,
          "metadata": {},
          "output_type": "execute_result"
        }
      ],
      "source": [
        "ser1 = pd.Series(range(5))\n",
        "ser2 = pd.Series(list('abcde'))\n",
        "ser1._append(ser2)"
      ]
    },
    {
      "cell_type": "markdown",
      "id": "c252d7bb",
      "metadata": {
        "id": "c252d7bb"
      },
      "source": [
        "**Problem 18**\n",
        "\n",
        "Get the positions of items of ser2 in ser1 as a list.\n",
        "\n",
        "*   Use list comprehension, pd.Index, and .getloc() to complete the task\n",
        "\n"
      ]
    },
    {
      "cell_type": "code",
      "execution_count": null,
      "id": "da51891e",
      "metadata": {
        "id": "da51891e"
      },
      "outputs": [
        {
          "name": "stdout",
          "output_type": "stream",
          "text": [
            "[5, 4, 0, 8]\n"
          ]
        }
      ],
      "source": [
        "ser1 = pd.Series([10, 9, 6, 5, 3, 1, 12, 8, 13])\n",
        "ser2 = pd.Series([1, 3, 10, 13])\n",
        "list = [pd.Index(ser1).get_loc(num) for num in ser2 ]\n",
        "print(list)"
      ]
    },
    {
      "cell_type": "markdown",
      "id": "7acf6f79",
      "metadata": {
        "id": "7acf6f79"
      },
      "source": [
        "**Problem 19**\n",
        "\n",
        "Change the first character of each word to upper case in each word of ser.\n",
        "\n",
        "*   Use the .map() method combined with a string method to complete the task\n",
        "\n",
        "\n"
      ]
    },
    {
      "cell_type": "code",
      "execution_count": null,
      "id": "c210bbe9",
      "metadata": {
        "id": "c210bbe9"
      },
      "outputs": [
        {
          "data": {
            "text/plain": [
              "0      How\n",
              "1       To\n",
              "2     Kick\n",
              "3    Butt?\n",
              "dtype: object"
            ]
          },
          "execution_count": 84,
          "metadata": {},
          "output_type": "execute_result"
        }
      ],
      "source": [
        "ser = pd.Series(['how', 'to', 'kick', 'butt?'])\n",
        "ser.map(lambda x:x[0].upper()+ x[1:])"
      ]
    },
    {
      "cell_type": "markdown",
      "id": "053f198a",
      "metadata": {
        "id": "053f198a"
      },
      "source": [
        "**Problem 20**\n",
        "\n",
        "Calculate the number of characters for each element in the series.\n",
        "\n",
        "*   Use the .map() method combined with a method to find the length of the string to complete the task.\n",
        "\n"
      ]
    },
    {
      "cell_type": "code",
      "execution_count": null,
      "id": "216f9a3e",
      "metadata": {
        "id": "216f9a3e"
      },
      "outputs": [
        {
          "data": {
            "text/plain": [
              "0    3\n",
              "1    2\n",
              "2    4\n",
              "3    5\n",
              "dtype: int64"
            ]
          },
          "execution_count": 87,
          "metadata": {},
          "output_type": "execute_result"
        }
      ],
      "source": [
        "ser = pd.Series(['how', 'to', 'kick', 'butt?'])\n",
        "ser.map(lambda x:len(x))"
      ]
    },
    {
      "cell_type": "markdown",
      "id": "a26bcf59",
      "metadata": {
        "id": "a26bcf59"
      },
      "source": [
        "**Problem 21**\n",
        "\n",
        "Caluculate the difference of differences between the consequtive numbers of ser. Dislplay the output as a list.\n",
        "\n",
        "*   Use the .diff() method to the complete the task\n",
        "\n"
      ]
    },
    {
      "cell_type": "code",
      "execution_count": null,
      "id": "c6dba0cb",
      "metadata": {
        "id": "c6dba0cb"
      },
      "outputs": [
        {
          "data": {
            "text/plain": [
              "0    NaN\n",
              "1    2.0\n",
              "2    3.0\n",
              "3    4.0\n",
              "4    5.0\n",
              "5    6.0\n",
              "6    6.0\n",
              "7    8.0\n",
              "dtype: float64"
            ]
          },
          "execution_count": 88,
          "metadata": {},
          "output_type": "execute_result"
        }
      ],
      "source": [
        "ser = pd.Series([1, 3, 6, 10, 15, 21, 27, 35])\n",
        "ser.diff()"
      ]
    },
    {
      "cell_type": "markdown",
      "id": "c64a2901",
      "metadata": {
        "id": "c64a2901"
      },
      "source": [
        "**Problem 22**\n",
        "\n",
        "Convert the date-strings to a timeseries.\n",
        "\n",
        "*   use the .to_datetime() method to complete the task\n"
      ]
    },
    {
      "cell_type": "code",
      "execution_count": null,
      "id": "db82de89",
      "metadata": {
        "id": "db82de89"
      },
      "outputs": [
        {
          "ename": "ValueError",
          "evalue": "time data \"02-02-2011\" doesn't match format \"%d %b %Y\", at position 1. You might want to try:\n    - passing `format` if your strings have a consistent format;\n    - passing `format='ISO8601'` if your strings are all ISO8601 but not necessarily in exactly the same format;\n    - passing `format='mixed'`, and the format will be inferred for each element individually. You might want to use `dayfirst` alongside this.",
          "output_type": "error",
          "traceback": [
            "\u001b[1;31m---------------------------------------------------------------------------\u001b[0m",
            "\u001b[1;31mValueError\u001b[0m                                Traceback (most recent call last)",
            "Cell \u001b[1;32mIn[16], line 2\u001b[0m\n\u001b[0;32m      1\u001b[0m ser \u001b[39m=\u001b[39m pd\u001b[39m.\u001b[39mSeries([\u001b[39m'\u001b[39m\u001b[39m01 Jan 2010\u001b[39m\u001b[39m'\u001b[39m, \u001b[39m'\u001b[39m\u001b[39m02-02-2011\u001b[39m\u001b[39m'\u001b[39m, \u001b[39m'\u001b[39m\u001b[39m20120303\u001b[39m\u001b[39m'\u001b[39m, \u001b[39m'\u001b[39m\u001b[39m2013/04/04\u001b[39m\u001b[39m'\u001b[39m, \u001b[39m'\u001b[39m\u001b[39m2014-05-05\u001b[39m\u001b[39m'\u001b[39m, \u001b[39m'\u001b[39m\u001b[39m2015-06-06T12:20\u001b[39m\u001b[39m'\u001b[39m])\n\u001b[1;32m----> 2\u001b[0m pd\u001b[39m.\u001b[39;49mto_datetime(ser)\n",
            "File \u001b[1;32mc:\\Users\\k_sha\\AppData\\Local\\Programs\\Python\\Python310\\lib\\site-packages\\pandas\\core\\tools\\datetimes.py:1050\u001b[0m, in \u001b[0;36mto_datetime\u001b[1;34m(arg, errors, dayfirst, yearfirst, utc, format, exact, unit, infer_datetime_format, origin, cache)\u001b[0m\n\u001b[0;32m   1048\u001b[0m         result \u001b[39m=\u001b[39m arg\u001b[39m.\u001b[39mmap(cache_array)\n\u001b[0;32m   1049\u001b[0m     \u001b[39melse\u001b[39;00m:\n\u001b[1;32m-> 1050\u001b[0m         values \u001b[39m=\u001b[39m convert_listlike(arg\u001b[39m.\u001b[39;49m_values, \u001b[39mformat\u001b[39;49m)\n\u001b[0;32m   1051\u001b[0m         result \u001b[39m=\u001b[39m arg\u001b[39m.\u001b[39m_constructor(values, index\u001b[39m=\u001b[39marg\u001b[39m.\u001b[39mindex, name\u001b[39m=\u001b[39marg\u001b[39m.\u001b[39mname)\n\u001b[0;32m   1052\u001b[0m \u001b[39melif\u001b[39;00m \u001b[39misinstance\u001b[39m(arg, (ABCDataFrame, abc\u001b[39m.\u001b[39mMutableMapping)):\n",
            "File \u001b[1;32mc:\\Users\\k_sha\\AppData\\Local\\Programs\\Python\\Python310\\lib\\site-packages\\pandas\\core\\tools\\datetimes.py:453\u001b[0m, in \u001b[0;36m_convert_listlike_datetimes\u001b[1;34m(arg, format, name, utc, unit, errors, dayfirst, yearfirst, exact)\u001b[0m\n\u001b[0;32m    451\u001b[0m \u001b[39m# `format` could be inferred, or user didn't ask for mixed-format parsing.\u001b[39;00m\n\u001b[0;32m    452\u001b[0m \u001b[39mif\u001b[39;00m \u001b[39mformat\u001b[39m \u001b[39mis\u001b[39;00m \u001b[39mnot\u001b[39;00m \u001b[39mNone\u001b[39;00m \u001b[39mand\u001b[39;00m \u001b[39mformat\u001b[39m \u001b[39m!=\u001b[39m \u001b[39m\"\u001b[39m\u001b[39mmixed\u001b[39m\u001b[39m\"\u001b[39m:\n\u001b[1;32m--> 453\u001b[0m     \u001b[39mreturn\u001b[39;00m _array_strptime_with_fallback(arg, name, utc, \u001b[39mformat\u001b[39;49m, exact, errors)\n\u001b[0;32m    455\u001b[0m result, tz_parsed \u001b[39m=\u001b[39m objects_to_datetime64ns(\n\u001b[0;32m    456\u001b[0m     arg,\n\u001b[0;32m    457\u001b[0m     dayfirst\u001b[39m=\u001b[39mdayfirst,\n\u001b[1;32m   (...)\u001b[0m\n\u001b[0;32m    461\u001b[0m     allow_object\u001b[39m=\u001b[39m\u001b[39mTrue\u001b[39;00m,\n\u001b[0;32m    462\u001b[0m )\n\u001b[0;32m    464\u001b[0m \u001b[39mif\u001b[39;00m tz_parsed \u001b[39mis\u001b[39;00m \u001b[39mnot\u001b[39;00m \u001b[39mNone\u001b[39;00m:\n\u001b[0;32m    465\u001b[0m     \u001b[39m# We can take a shortcut since the datetime64 numpy array\u001b[39;00m\n\u001b[0;32m    466\u001b[0m     \u001b[39m# is in UTC\u001b[39;00m\n",
            "File \u001b[1;32mc:\\Users\\k_sha\\AppData\\Local\\Programs\\Python\\Python310\\lib\\site-packages\\pandas\\core\\tools\\datetimes.py:484\u001b[0m, in \u001b[0;36m_array_strptime_with_fallback\u001b[1;34m(arg, name, utc, fmt, exact, errors)\u001b[0m\n\u001b[0;32m    473\u001b[0m \u001b[39mdef\u001b[39;00m \u001b[39m_array_strptime_with_fallback\u001b[39m(\n\u001b[0;32m    474\u001b[0m     arg,\n\u001b[0;32m    475\u001b[0m     name,\n\u001b[1;32m   (...)\u001b[0m\n\u001b[0;32m    479\u001b[0m     errors: \u001b[39mstr\u001b[39m,\n\u001b[0;32m    480\u001b[0m ) \u001b[39m-\u001b[39m\u001b[39m>\u001b[39m Index:\n\u001b[0;32m    481\u001b[0m \u001b[39m    \u001b[39m\u001b[39m\"\"\"\u001b[39;00m\n\u001b[0;32m    482\u001b[0m \u001b[39m    Call array_strptime, with fallback behavior depending on 'errors'.\u001b[39;00m\n\u001b[0;32m    483\u001b[0m \u001b[39m    \"\"\"\u001b[39;00m\n\u001b[1;32m--> 484\u001b[0m     result, timezones \u001b[39m=\u001b[39m array_strptime(arg, fmt, exact\u001b[39m=\u001b[39;49mexact, errors\u001b[39m=\u001b[39;49merrors, utc\u001b[39m=\u001b[39;49mutc)\n\u001b[0;32m    485\u001b[0m     \u001b[39mif\u001b[39;00m \u001b[39many\u001b[39m(tz \u001b[39mis\u001b[39;00m \u001b[39mnot\u001b[39;00m \u001b[39mNone\u001b[39;00m \u001b[39mfor\u001b[39;00m tz \u001b[39min\u001b[39;00m timezones):\n\u001b[0;32m    486\u001b[0m         \u001b[39mreturn\u001b[39;00m _return_parsed_timezone_results(result, timezones, utc, name)\n",
            "File \u001b[1;32mc:\\Users\\k_sha\\AppData\\Local\\Programs\\Python\\Python310\\lib\\site-packages\\pandas\\_libs\\tslibs\\strptime.pyx:530\u001b[0m, in \u001b[0;36mpandas._libs.tslibs.strptime.array_strptime\u001b[1;34m()\u001b[0m\n",
            "File \u001b[1;32mc:\\Users\\k_sha\\AppData\\Local\\Programs\\Python\\Python310\\lib\\site-packages\\pandas\\_libs\\tslibs\\strptime.pyx:351\u001b[0m, in \u001b[0;36mpandas._libs.tslibs.strptime.array_strptime\u001b[1;34m()\u001b[0m\n",
            "\u001b[1;31mValueError\u001b[0m: time data \"02-02-2011\" doesn't match format \"%d %b %Y\", at position 1. You might want to try:\n    - passing `format` if your strings have a consistent format;\n    - passing `format='ISO8601'` if your strings are all ISO8601 but not necessarily in exactly the same format;\n    - passing `format='mixed'`, and the format will be inferred for each element individually. You might want to use `dayfirst` alongside this."
          ]
        }
      ],
      "source": [
        "ser = pd.Series(['01 Jan 2010', '02-02-2011', '20120303', '2013/04/04', '2014-05-05', '2015-06-06T12:20'])\n",
        "pd.to_datetime(ser)"
      ]
    },
    {
      "cell_type": "markdown",
      "id": "5a5f83c0",
      "metadata": {
        "id": "5a5f83c0"
      },
      "source": [
        "**Problem 23**\n",
        "\n",
        "From dateutil.parser import the parse method to use for the following:\n",
        "\n",
        "*   Create a new object using the .map() method to parse ser\n",
        "*   Create a new list of all the days of the month using the .dt.day() methods from the parsed series\n",
        "*   Create a new list of all the weeks of the year using the .dt.weekofyear() methods from the parsed series\n",
        "*   Create a new list of all of the days of the year using the dt.dayofyear() methods from the parsed series\n",
        "*   Create a new list of all the days of the week using the dt.weekday_name() methods from the parsed series\n",
        "\n",
        "\n",
        "\n"
      ]
    },
    {
      "cell_type": "code",
      "execution_count": null,
      "id": "4bcc124e",
      "metadata": {
        "id": "4bcc124e"
      },
      "outputs": [],
      "source": [
        "ser = pd.Series(['01 Jan 2010', '02-02-2011', '20120303', '2013/04/04', '2014-05-05', '2015-06-06T12:20'])"
      ]
    },
    {
      "cell_type": "markdown",
      "id": "3dbb2f54",
      "metadata": {
        "id": "3dbb2f54"
      },
      "source": [
        "**Problem 24**\n",
        "\n",
        "From ser, extract words that contain at least 2 vowels."
      ]
    },
    {
      "cell_type": "code",
      "execution_count": 46,
      "id": "32dec09a",
      "metadata": {
        "id": "32dec09a"
      },
      "outputs": [
        {
          "ename": "AttributeError",
          "evalue": "'str' object has no attribute 'get'",
          "output_type": "error",
          "traceback": [
            "\u001b[1;31m---------------------------------------------------------------------------\u001b[0m",
            "\u001b[1;31mAttributeError\u001b[0m                            Traceback (most recent call last)",
            "Cell \u001b[1;32mIn[46], line 4\u001b[0m\n\u001b[0;32m      1\u001b[0m \u001b[39mfrom\u001b[39;00m \u001b[39mcollections\u001b[39;00m \u001b[39mimport\u001b[39;00m Counter\n\u001b[0;32m      2\u001b[0m ser \u001b[39m=\u001b[39m pd\u001b[39m.\u001b[39mSeries([\u001b[39m'\u001b[39m\u001b[39mApple\u001b[39m\u001b[39m'\u001b[39m, \u001b[39m'\u001b[39m\u001b[39mOrange\u001b[39m\u001b[39m'\u001b[39m, \u001b[39m'\u001b[39m\u001b[39mPlan\u001b[39m\u001b[39m'\u001b[39m, \u001b[39m'\u001b[39m\u001b[39mPython\u001b[39m\u001b[39m'\u001b[39m, \u001b[39m'\u001b[39m\u001b[39mMoney\u001b[39m\u001b[39m'\u001b[39m])\n\u001b[1;32m----> 4\u001b[0m \u001b[39mlist\u001b[39m \u001b[39m=\u001b[39m ser\u001b[39m.\u001b[39;49mmap(\u001b[39mlambda\u001b[39;49;00m x: \u001b[39msum\u001b[39;49m([Counter(x\u001b[39m.\u001b[39;49mlower()\u001b[39m.\u001b[39;49mget(i,\u001b[39m0\u001b[39;49m) \u001b[39mfor\u001b[39;49;00m i \u001b[39min\u001b[39;49;00m \u001b[39mlist\u001b[39;49m(\u001b[39m'\u001b[39;49m\u001b[39maeiou\u001b[39;49m\u001b[39m'\u001b[39;49m))])\u001b[39m>\u001b[39;49m\u001b[39m=\u001b[39;49m\u001b[39m2\u001b[39;49m)\n",
            "File \u001b[1;32mc:\\Users\\k_sha\\AppData\\Local\\Programs\\Python\\Python310\\lib\\site-packages\\pandas\\core\\series.py:4393\u001b[0m, in \u001b[0;36mSeries.map\u001b[1;34m(self, arg, na_action)\u001b[0m\n\u001b[0;32m   4314\u001b[0m \u001b[39mdef\u001b[39;00m \u001b[39mmap\u001b[39m(\n\u001b[0;32m   4315\u001b[0m     \u001b[39mself\u001b[39m,\n\u001b[0;32m   4316\u001b[0m     arg: Callable \u001b[39m|\u001b[39m Mapping \u001b[39m|\u001b[39m Series,\n\u001b[0;32m   4317\u001b[0m     na_action: Literal[\u001b[39m\"\u001b[39m\u001b[39mignore\u001b[39m\u001b[39m\"\u001b[39m] \u001b[39m|\u001b[39m \u001b[39mNone\u001b[39;00m \u001b[39m=\u001b[39m \u001b[39mNone\u001b[39;00m,\n\u001b[0;32m   4318\u001b[0m ) \u001b[39m-\u001b[39m\u001b[39m>\u001b[39m Series:\n\u001b[0;32m   4319\u001b[0m \u001b[39m    \u001b[39m\u001b[39m\"\"\"\u001b[39;00m\n\u001b[0;32m   4320\u001b[0m \u001b[39m    Map values of Series according to an input mapping or function.\u001b[39;00m\n\u001b[0;32m   4321\u001b[0m \n\u001b[1;32m   (...)\u001b[0m\n\u001b[0;32m   4391\u001b[0m \u001b[39m    dtype: object\u001b[39;00m\n\u001b[0;32m   4392\u001b[0m \u001b[39m    \"\"\"\u001b[39;00m\n\u001b[1;32m-> 4393\u001b[0m     new_values \u001b[39m=\u001b[39m \u001b[39mself\u001b[39;49m\u001b[39m.\u001b[39;49m_map_values(arg, na_action\u001b[39m=\u001b[39;49mna_action)\n\u001b[0;32m   4394\u001b[0m     \u001b[39mreturn\u001b[39;00m \u001b[39mself\u001b[39m\u001b[39m.\u001b[39m_constructor(new_values, index\u001b[39m=\u001b[39m\u001b[39mself\u001b[39m\u001b[39m.\u001b[39mindex, copy\u001b[39m=\u001b[39m\u001b[39mFalse\u001b[39;00m)\u001b[39m.\u001b[39m__finalize__(\n\u001b[0;32m   4395\u001b[0m         \u001b[39mself\u001b[39m, method\u001b[39m=\u001b[39m\u001b[39m\"\u001b[39m\u001b[39mmap\u001b[39m\u001b[39m\"\u001b[39m\n\u001b[0;32m   4396\u001b[0m     )\n",
            "File \u001b[1;32mc:\\Users\\k_sha\\AppData\\Local\\Programs\\Python\\Python310\\lib\\site-packages\\pandas\\core\\base.py:924\u001b[0m, in \u001b[0;36mIndexOpsMixin._map_values\u001b[1;34m(self, mapper, na_action)\u001b[0m\n\u001b[0;32m    921\u001b[0m         \u001b[39mraise\u001b[39;00m \u001b[39mValueError\u001b[39;00m(msg)\n\u001b[0;32m    923\u001b[0m \u001b[39m# mapper is a function\u001b[39;00m\n\u001b[1;32m--> 924\u001b[0m new_values \u001b[39m=\u001b[39m map_f(values, mapper)\n\u001b[0;32m    926\u001b[0m \u001b[39mreturn\u001b[39;00m new_values\n",
            "File \u001b[1;32mc:\\Users\\k_sha\\AppData\\Local\\Programs\\Python\\Python310\\lib\\site-packages\\pandas\\_libs\\lib.pyx:2834\u001b[0m, in \u001b[0;36mpandas._libs.lib.map_infer\u001b[1;34m()\u001b[0m\n",
            "Cell \u001b[1;32mIn[46], line 4\u001b[0m, in \u001b[0;36m<lambda>\u001b[1;34m(x)\u001b[0m\n\u001b[0;32m      1\u001b[0m \u001b[39mfrom\u001b[39;00m \u001b[39mcollections\u001b[39;00m \u001b[39mimport\u001b[39;00m Counter\n\u001b[0;32m      2\u001b[0m ser \u001b[39m=\u001b[39m pd\u001b[39m.\u001b[39mSeries([\u001b[39m'\u001b[39m\u001b[39mApple\u001b[39m\u001b[39m'\u001b[39m, \u001b[39m'\u001b[39m\u001b[39mOrange\u001b[39m\u001b[39m'\u001b[39m, \u001b[39m'\u001b[39m\u001b[39mPlan\u001b[39m\u001b[39m'\u001b[39m, \u001b[39m'\u001b[39m\u001b[39mPython\u001b[39m\u001b[39m'\u001b[39m, \u001b[39m'\u001b[39m\u001b[39mMoney\u001b[39m\u001b[39m'\u001b[39m])\n\u001b[1;32m----> 4\u001b[0m \u001b[39mlist\u001b[39m \u001b[39m=\u001b[39m ser\u001b[39m.\u001b[39mmap(\u001b[39mlambda\u001b[39;00m x: \u001b[39msum\u001b[39m([Counter(x\u001b[39m.\u001b[39;49mlower()\u001b[39m.\u001b[39;49mget(i,\u001b[39m0\u001b[39;49m) \u001b[39mfor\u001b[39;49;00m i \u001b[39min\u001b[39;49;00m \u001b[39mlist\u001b[39;49m(\u001b[39m'\u001b[39;49m\u001b[39maeiou\u001b[39;49m\u001b[39m'\u001b[39;49m))])\u001b[39m>\u001b[39m\u001b[39m=\u001b[39m\u001b[39m2\u001b[39m)\n",
            "File \u001b[1;32mc:\\Users\\k_sha\\AppData\\Local\\Programs\\Python\\Python310\\lib\\collections\\__init__.py:577\u001b[0m, in \u001b[0;36mCounter.__init__\u001b[1;34m(self, iterable, **kwds)\u001b[0m\n\u001b[0;32m    566\u001b[0m \u001b[39m\u001b[39m\u001b[39m'''Create a new, empty Counter object.  And if given, count elements\u001b[39;00m\n\u001b[0;32m    567\u001b[0m \u001b[39mfrom an input iterable.  Or, initialize the count from another mapping\u001b[39;00m\n\u001b[0;32m    568\u001b[0m \u001b[39mof elements to their counts.\u001b[39;00m\n\u001b[1;32m   (...)\u001b[0m\n\u001b[0;32m    574\u001b[0m \n\u001b[0;32m    575\u001b[0m \u001b[39m'''\u001b[39;00m\n\u001b[0;32m    576\u001b[0m \u001b[39msuper\u001b[39m()\u001b[39m.\u001b[39m\u001b[39m__init__\u001b[39m()\n\u001b[1;32m--> 577\u001b[0m \u001b[39mself\u001b[39m\u001b[39m.\u001b[39mupdate(iterable, \u001b[39m*\u001b[39m\u001b[39m*\u001b[39mkwds)\n",
            "File \u001b[1;32mc:\\Users\\k_sha\\AppData\\Local\\Programs\\Python\\Python310\\lib\\collections\\__init__.py:670\u001b[0m, in \u001b[0;36mCounter.update\u001b[1;34m(self, iterable, **kwds)\u001b[0m\n\u001b[0;32m    668\u001b[0m             \u001b[39msuper\u001b[39m()\u001b[39m.\u001b[39mupdate(iterable)\n\u001b[0;32m    669\u001b[0m     \u001b[39melse\u001b[39;00m:\n\u001b[1;32m--> 670\u001b[0m         _count_elements(\u001b[39mself\u001b[39;49m, iterable)\n\u001b[0;32m    671\u001b[0m \u001b[39mif\u001b[39;00m kwds:\n\u001b[0;32m    672\u001b[0m     \u001b[39mself\u001b[39m\u001b[39m.\u001b[39mupdate(kwds)\n",
            "Cell \u001b[1;32mIn[46], line 4\u001b[0m, in \u001b[0;36m<genexpr>\u001b[1;34m(.0)\u001b[0m\n\u001b[0;32m      1\u001b[0m \u001b[39mfrom\u001b[39;00m \u001b[39mcollections\u001b[39;00m \u001b[39mimport\u001b[39;00m Counter\n\u001b[0;32m      2\u001b[0m ser \u001b[39m=\u001b[39m pd\u001b[39m.\u001b[39mSeries([\u001b[39m'\u001b[39m\u001b[39mApple\u001b[39m\u001b[39m'\u001b[39m, \u001b[39m'\u001b[39m\u001b[39mOrange\u001b[39m\u001b[39m'\u001b[39m, \u001b[39m'\u001b[39m\u001b[39mPlan\u001b[39m\u001b[39m'\u001b[39m, \u001b[39m'\u001b[39m\u001b[39mPython\u001b[39m\u001b[39m'\u001b[39m, \u001b[39m'\u001b[39m\u001b[39mMoney\u001b[39m\u001b[39m'\u001b[39m])\n\u001b[1;32m----> 4\u001b[0m \u001b[39mlist\u001b[39m \u001b[39m=\u001b[39m ser\u001b[39m.\u001b[39mmap(\u001b[39mlambda\u001b[39;00m x: \u001b[39msum\u001b[39m([Counter(x\u001b[39m.\u001b[39;49mlower()\u001b[39m.\u001b[39;49mget(i,\u001b[39m0\u001b[39m) \u001b[39mfor\u001b[39;00m i \u001b[39min\u001b[39;00m \u001b[39mlist\u001b[39m(\u001b[39m'\u001b[39m\u001b[39maeiou\u001b[39m\u001b[39m'\u001b[39m))])\u001b[39m>\u001b[39m\u001b[39m=\u001b[39m\u001b[39m2\u001b[39m)\n",
            "\u001b[1;31mAttributeError\u001b[0m: 'str' object has no attribute 'get'"
          ]
        }
      ],
      "source": [
        "from collections import Counter\n",
        "ser = pd.Series(['Apple', 'Orange', 'Plan', 'Python', 'Money'])\n",
        "\n",
        "list = ser.map(lambda x: sum([Counter(x.lower().get(i,0) for i in list('aeiou'))])>=2)"
      ]
    },
    {
      "cell_type": "markdown",
      "id": "44177063",
      "metadata": {
        "id": "44177063"
      },
      "source": [
        "**Problem 25**\n",
        "\n",
        "Extract the valid emails from the series emails. The regex pattern for valid emails is provided as reference."
      ]
    },
    {
      "cell_type": "code",
      "execution_count": 99,
      "id": "3e85fe14",
      "metadata": {
        "id": "3e85fe14"
      },
      "outputs": [
        {
          "name": "stdout",
          "output_type": "stream",
          "text": [
            "['rameses@egypt.com', 'matt@t.co', 'narendra@modi.com']\n"
          ]
        }
      ],
      "source": [
        "import re\n",
        "emails = pd.Series(['buying books at amazom.com', 'rameses@egypt.com', 'matt@t.co', 'narendra@modi.com'])\n",
        "pattern ='[A-Za-z0-9._%+-]+@[A-Za-z0-9.-]+\\\\.[A-Za-z]{2,4}'\n",
        "list =[]\n",
        "for email in emails:\n",
        "    if re.search(pattern,email):\n",
        "        list.append(email)\n",
        "print(list )      \n",
        "\n"
      ]
    },
    {
      "cell_type": "markdown",
      "id": "66fadf17",
      "metadata": {
        "id": "66fadf17"
      },
      "source": [
        "**Problem 26**\n",
        "\n",
        "Compute the mean of weights of each fruit."
      ]
    },
    {
      "cell_type": "code",
      "execution_count": 101,
      "id": "75855cd1",
      "metadata": {
        "id": "75855cd1"
      },
      "outputs": [
        {
          "name": "stdout",
          "output_type": "stream",
          "text": [
            "[1.0, 2.0, 3.0, 4.0, 5.0, 6.0, 7.0, 8.0, 9.0, 10.0]\n",
            "['carrot', 'banana', 'apple', 'banana', 'banana', 'carrot', 'banana', 'carrot', 'apple', 'banana']\n"
          ]
        }
      ],
      "source": [
        "fruit = pd.Series(np.random.choice(['apple', 'banana', 'carrot'], 10))\n",
        "weights = pd.Series(np.linspace(1, 10, 10))\n",
        "print(weights.tolist())\n",
        "print(fruit.tolist())\n",
        "#examples\n",
        "#> [1.0, 2.0, 3.0, 4.0, 5.0, 6.0, 7.0, 8.0, 9.0, 10.0]\n",
        "#> ['banana', 'carrot', 'apple', 'carrot', 'carrot', 'apple', 'banana', 'carrot', 'apple', 'carrot']"
      ]
    },
    {
      "cell_type": "markdown",
      "id": "04f5675f",
      "metadata": {
        "id": "04f5675f"
      },
      "source": [
        "**Problem 27**\n",
        "\n",
        "Replace the spaces in my_str with the least frequent character."
      ]
    },
    {
      "cell_type": "code",
      "execution_count": 111,
      "id": "1d4aff8d",
      "metadata": {
        "id": "1d4aff8d"
      },
      "outputs": [
        {
          "ename": "TypeError",
          "evalue": "'list' object is not callable",
          "output_type": "error",
          "traceback": [
            "\u001b[1;31m---------------------------------------------------------------------------\u001b[0m",
            "\u001b[1;31mTypeError\u001b[0m                                 Traceback (most recent call last)",
            "Cell \u001b[1;32mIn[111], line 3\u001b[0m\n\u001b[0;32m      1\u001b[0m my_str \u001b[39m=\u001b[39m \u001b[39m'\u001b[39m\u001b[39mdbc deb abed gade\u001b[39m\u001b[39m'\u001b[39m\n\u001b[0;32m      2\u001b[0m list1 \u001b[39m=\u001b[39m []\n\u001b[1;32m----> 3\u001b[0m ser \u001b[39m=\u001b[39m pd\u001b[39m.\u001b[39mSeries(list1(my_str))\n\u001b[0;32m      4\u001b[0m \u001b[39mprint\u001b[39m(ser)\n\u001b[0;32m      5\u001b[0m element_fer\u001b[39m=\u001b[39m ser\u001b[39m.\u001b[39mvalue_counts()\n",
            "\u001b[1;31mTypeError\u001b[0m: 'list' object is not callable"
          ]
        }
      ],
      "source": [
        "my_str = 'dbc deb abed gade'\n",
        "list1 = []\n",
        "ser = pd.Series(list1(my_str))\n",
        "print(ser)\n",
        "element_fer= ser.value_counts()\n",
        "print(element_fer)"
      ]
    },
    {
      "cell_type": "markdown",
      "id": "146b95f0",
      "metadata": {
        "id": "146b95f0"
      },
      "source": [
        "Problem 28\n",
        "\n",
        "Create a timeseries starting at ‘2000-01-01’ and 10 weekends (saturdays) after that having random numbers as values."
      ]
    },
    {
      "cell_type": "code",
      "execution_count": 113,
      "id": "e4cd8dd6",
      "metadata": {
        "id": "e4cd8dd6"
      },
      "outputs": [
        {
          "name": "stdout",
          "output_type": "stream",
          "text": [
            "2000-01-01    2\n",
            "2000-01-08    5\n",
            "2000-01-15    9\n",
            "2000-01-22    3\n",
            "2000-01-29    3\n",
            "2000-02-05    8\n",
            "2000-02-12    8\n",
            "2000-02-19    9\n",
            "2000-02-26    9\n",
            "2000-03-04    3\n",
            "Freq: W-SAT, dtype: int32\n"
          ]
        }
      ],
      "source": [
        "dates = pd.date_range('2000-01-01', periods=10,freq='W-SAT')\n",
        "values = np.random.randint(0,10,size=10)\n",
        "ser = pd.Series(values,index=dates)\n",
        "print(ser)"
      ]
    },
    {
      "cell_type": "markdown",
      "id": "b8a17176",
      "metadata": {
        "id": "b8a17176"
      },
      "source": [
        "Problem 29\n",
        "\n",
        "Series ser has missing dates and values. Make all missing dates appear and fill up with value from previous date.\n",
        "\n",
        "*   Use .resample() and .ffill() to complete the task\n",
        "\n",
        "\n"
      ]
    },
    {
      "cell_type": "code",
      "execution_count": 114,
      "id": "c8a10d5d",
      "metadata": {
        "id": "c8a10d5d"
      },
      "outputs": [
        {
          "name": "stdout",
          "output_type": "stream",
          "text": [
            "2000-01-01     1.0\n",
            "2000-01-03    10.0\n",
            "2000-01-06     3.0\n",
            "2000-01-08     NaN\n",
            "dtype: float64\n"
          ]
        }
      ],
      "source": [
        "ser = pd.Series([1,10,3,np.nan], index=pd.to_datetime(['2000-01-01', '2000-01-03', '2000-01-06', '2000-01-08']))\n",
        "print(ser)\n",
        "#> 2000-01-01     1.0\n",
        "#> 2000-01-03    10.0\n",
        "#> 2000-01-06     3.0\n",
        "#> 2000-01-08     NaN\n",
        "#> dtype: float64"
      ]
    }
  ],
  "metadata": {
    "colab": {
      "provenance": []
    },
    "kernelspec": {
      "display_name": "my_environment",
      "language": "python",
      "name": "python3"
    },
    "language_info": {
      "codemirror_mode": {
        "name": "ipython",
        "version": 3
      },
      "file_extension": ".py",
      "mimetype": "text/x-python",
      "name": "python",
      "nbconvert_exporter": "python",
      "pygments_lexer": "ipython3",
      "version": "3.10.10"
    },
    "vscode": {
      "interpreter": {
        "hash": "1468b46fbbf336438d2a9c265dd02fb55be29fdd63084011561d11061c2774ae"
      }
    }
  },
  "nbformat": 4,
  "nbformat_minor": 5
}
